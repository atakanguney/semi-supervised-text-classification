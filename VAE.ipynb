{
 "cells": [
  {
   "cell_type": "code",
   "execution_count": 3,
   "metadata": {},
   "outputs": [],
   "source": [
    "import tensorflow as tf"
   ]
  },
  {
   "cell_type": "code",
   "execution_count": 5,
   "metadata": {},
   "outputs": [],
   "source": [
    "import numpy as np\n",
    "import matplotlib.pyplot as plt"
   ]
  },
  {
   "cell_type": "code",
   "execution_count": 100,
   "metadata": {},
   "outputs": [],
   "source": [
    "m = 10\n",
    "n_z = 2\n",
    "n_epoch = 10"
   ]
  },
  {
   "cell_type": "code",
   "execution_count": 101,
   "metadata": {},
   "outputs": [],
   "source": [
    "# Encoder Part\n",
    "inputs = tf.keras.layers.Input(shape=(784, ))\n",
    "h_q = tf.keras.layers.Dense(512, activation=\"relu\")(inputs)\n",
    "mu = tf.keras.layers.Dense(n_z, activation=\"linear\")(h_q)\n",
    "log_sigma = tf.keras.layers.Dense(n_z, activation=\"linear\")(h_q)"
   ]
  },
  {
   "cell_type": "code",
   "execution_count": 102,
   "metadata": {},
   "outputs": [],
   "source": [
    "def sample_z(args):\n",
    "    mu, log_sigma = args\n",
    "    eps = tf.keras.backend.random_normal(shape=(m, n_z), mean=0., stddev=1.)\n",
    "    return mu + tf.keras.backend.exp(log_sigma / 2) * eps"
   ]
  },
  {
   "cell_type": "code",
   "execution_count": 103,
   "metadata": {},
   "outputs": [],
   "source": [
    "# Sampling\n",
    "z = tf.keras.layers.Lambda(sample_z)([mu, log_sigma])"
   ]
  },
  {
   "cell_type": "code",
   "execution_count": 104,
   "metadata": {},
   "outputs": [],
   "source": [
    "# Decoder Part\n",
    "decoder_hidden = tf.keras.layers.Dense(512, activation=\"relu\")\n",
    "decoder_out = tf.keras.layers.Dense(784, activation=\"sigmoid\")"
   ]
  },
  {
   "cell_type": "code",
   "execution_count": 105,
   "metadata": {},
   "outputs": [],
   "source": [
    "h_p = decoder_hidden(z)\n",
    "outputs = decoder_out(h_p)"
   ]
  },
  {
   "cell_type": "code",
   "execution_count": 106,
   "metadata": {},
   "outputs": [],
   "source": [
    "vae = tf.keras.models.Model(inputs, outputs)"
   ]
  },
  {
   "cell_type": "code",
   "execution_count": 107,
   "metadata": {},
   "outputs": [],
   "source": [
    "encoder = tf.keras.models.Model(inputs, mu)"
   ]
  },
  {
   "cell_type": "code",
   "execution_count": 108,
   "metadata": {},
   "outputs": [],
   "source": [
    "d_in = tf.keras.layers.Input(shape=(n_z,))\n",
    "d_h = decoder_hidden(d_in)\n",
    "d_out = decoder_out(d_h)\n",
    "decoder = tf.keras.models.Model(d_in, d_out)"
   ]
  },
  {
   "cell_type": "code",
   "execution_count": 109,
   "metadata": {},
   "outputs": [],
   "source": [
    "def vae_loss(y_true, y_pred):\n",
    "    recon = tf.keras.backend.sum(tf.keras.backend.binary_crossentropy(y_pred, y_true), axis=1)\n",
    "    kl = 0.5 * tf.keras.backend.sum(tf.keras.backend.exp(log_sigma) + tf.keras.backend.square(mu) - 1 - log_sigma, axis=1)\n",
    "    \n",
    "    return recon + kl"
   ]
  },
  {
   "cell_type": "code",
   "execution_count": 110,
   "metadata": {},
   "outputs": [],
   "source": [
    "vae.compile(optimizer=tf.train.AdamOptimizer(learning_rate=0.01), loss=vae_loss)"
   ]
  },
  {
   "cell_type": "code",
   "execution_count": 71,
   "metadata": {},
   "outputs": [],
   "source": [
    "from tensorflow.examples.tutorials.mnist import input_data"
   ]
  },
  {
   "cell_type": "code",
   "execution_count": 22,
   "metadata": {},
   "outputs": [],
   "source": [
    "(mnist_images, mnist_labels), _ = tf.keras.datasets.mnist.load_data()"
   ]
  },
  {
   "cell_type": "code",
   "execution_count": 34,
   "metadata": {},
   "outputs": [
    {
     "data": {
      "text/plain": [
       "(60000, 28, 28)"
      ]
     },
     "execution_count": 34,
     "metadata": {},
     "output_type": "execute_result"
    }
   ],
   "source": [
    "mnist_images.shape"
   ]
  },
  {
   "cell_type": "code",
   "execution_count": 58,
   "metadata": {},
   "outputs": [],
   "source": [
    "dataset = tf.data.Dataset.from_tensor_slices(\n",
    "    (tf.cast(mnist_images.reshape(mnist_images.shape[0], -1)[:100, :] / 255, tf.float32),\n",
    "     tf.cast(mnist_images.reshape(mnist_images.shape[0], -1)[:100, :] / 255, tf.float32))\n",
    ")"
   ]
  },
  {
   "cell_type": "code",
   "execution_count": 59,
   "metadata": {},
   "outputs": [
    {
     "data": {
      "text/plain": [
       "<TensorSliceDataset shapes: ((784,), (784,)), types: (tf.float32, tf.float32)>"
      ]
     },
     "execution_count": 59,
     "metadata": {},
     "output_type": "execute_result"
    }
   ],
   "source": [
    "dataset"
   ]
  },
  {
   "cell_type": "code",
   "execution_count": 60,
   "metadata": {},
   "outputs": [],
   "source": [
    "dataset = dataset.shuffle(1000).batch(32)"
   ]
  },
  {
   "cell_type": "code",
   "execution_count": 61,
   "metadata": {},
   "outputs": [
    {
     "data": {
      "text/plain": [
       "<BatchDataset shapes: ((?, 784), (?, 784)), types: (tf.float32, tf.float32)>"
      ]
     },
     "execution_count": 61,
     "metadata": {},
     "output_type": "execute_result"
    }
   ],
   "source": [
    "dataset"
   ]
  },
  {
   "cell_type": "code",
   "execution_count": 111,
   "metadata": {},
   "outputs": [],
   "source": [
    "X_train = np.random.rand(10, 784)"
   ]
  },
  {
   "cell_type": "code",
   "execution_count": 112,
   "metadata": {},
   "outputs": [
    {
     "data": {
      "text/plain": [
       "(10, 784)"
      ]
     },
     "execution_count": 112,
     "metadata": {},
     "output_type": "execute_result"
    }
   ],
   "source": [
    "X_train.shape"
   ]
  },
  {
   "cell_type": "code",
   "execution_count": 114,
   "metadata": {},
   "outputs": [
    {
     "name": "stdout",
     "output_type": "stream",
     "text": [
      "Epoch 1/20\n",
      "10/10 [==============================] - 0s 554us/step - loss: 736.2656\n",
      "Epoch 2/20\n",
      "10/10 [==============================] - 0s 688us/step - loss: 724.8429\n",
      "Epoch 3/20\n",
      "10/10 [==============================] - 0s 656us/step - loss: 710.5980\n",
      "Epoch 4/20\n",
      "10/10 [==============================] - 0s 592us/step - loss: 724.1906\n",
      "Epoch 5/20\n",
      "10/10 [==============================] - 0s 729us/step - loss: 730.4393\n",
      "Epoch 6/20\n",
      "10/10 [==============================] - 0s 1ms/step - loss: 795.1268\n",
      "Epoch 7/20\n",
      "10/10 [==============================] - 0s 633us/step - loss: 834.5702\n",
      "Epoch 8/20\n",
      "10/10 [==============================] - 0s 652us/step - loss: 822.4849\n",
      "Epoch 9/20\n",
      "10/10 [==============================] - 0s 570us/step - loss: 775.6234\n",
      "Epoch 10/20\n",
      "10/10 [==============================] - 0s 588us/step - loss: 729.5927\n",
      "Epoch 11/20\n",
      "10/10 [==============================] - 0s 605us/step - loss: 708.4590\n",
      "Epoch 12/20\n",
      "10/10 [==============================] - 0s 791us/step - loss: 737.4695\n",
      "Epoch 13/20\n",
      "10/10 [==============================] - 0s 899us/step - loss: 760.8719\n",
      "Epoch 14/20\n",
      "10/10 [==============================] - 0s 768us/step - loss: 775.9799\n",
      "Epoch 15/20\n",
      "10/10 [==============================] - 0s 3ms/step - loss: 771.4937\n",
      "Epoch 16/20\n",
      "10/10 [==============================] - 0s 1ms/step - loss: 750.4326\n",
      "Epoch 17/20\n",
      "10/10 [==============================] - 0s 3ms/step - loss: 726.9985\n",
      "Epoch 18/20\n",
      "10/10 [==============================] - 0s 1ms/step - loss: 717.4463\n",
      "Epoch 19/20\n",
      "10/10 [==============================] - 0s 839us/step - loss: 726.9683\n",
      "Epoch 20/20\n",
      "10/10 [==============================] - 0s 916us/step - loss: 739.8729\n"
     ]
    },
    {
     "data": {
      "text/plain": [
       "<tensorflow.python.keras.callbacks.History at 0x1c3157b1d0>"
      ]
     },
     "execution_count": 114,
     "metadata": {},
     "output_type": "execute_result"
    }
   ],
   "source": [
    "#tf.initialize_all_variables()\n",
    "vae.fit(X_train, X_train, epochs=20)"
   ]
  },
  {
   "cell_type": "code",
   "execution_count": null,
   "metadata": {},
   "outputs": [],
   "source": [
    "b_model = tf.keras.models.Sequential(\n",
    "    tf.keras.layers.Dense(16, input_shape=(50,), activation=\"relu\"),\n",
    "    tf.keras.layers.Dense(32, activation=\"relu\"),\n",
    "    tf.keras.layers.Dense(1, activation=\"sigmoid\")\n",
    ")\n",
    "\n",
    "b_model.compile(\n",
    "    optimizer=tf.train.AdamOptimizer(learning_rate=0.01),\n",
    "    loss=\"mse\",\n",
    "    #metrics=[\"\"]\n",
    ")\n",
    "\n"
   ]
  }
 ],
 "metadata": {
  "kernelspec": {
   "display_name": "Python 3",
   "language": "python",
   "name": "python3"
  },
  "language_info": {
   "codemirror_mode": {
    "name": "ipython",
    "version": 3
   },
   "file_extension": ".py",
   "mimetype": "text/x-python",
   "name": "python",
   "nbconvert_exporter": "python",
   "pygments_lexer": "ipython3",
   "version": "3.6.6"
  }
 },
 "nbformat": 4,
 "nbformat_minor": 2
}

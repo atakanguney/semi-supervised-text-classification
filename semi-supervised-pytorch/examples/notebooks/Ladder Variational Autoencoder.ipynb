{
 "cells": [
  {
   "cell_type": "code",
   "execution_count": 2,
   "metadata": {
    "code_folding": [
     0
    ]
   },
   "outputs": [],
   "source": [
    "# Imports\n",
    "import torch\n",
    "cuda = torch.cuda.is_available()\n",
    "import numpy as np\n",
    "import matplotlib.pyplot as plt\n",
    "%matplotlib inline\n",
    "import sys\n",
    "sys.path.append(\"../../semi-supervised\")"
   ]
  },
  {
   "cell_type": "markdown",
   "metadata": {},
   "source": [
    "# Ladder Variational Autoencoder\n",
    "\n",
    "The ladder variational autoencoder (LVAE) [[Sønderby 2016a]](https://arxiv.org/abs/1602.02282) adds several stochastic layers to the VAE and performs both bottom-up and top-down merging of information to provide a better estimate of the log likelihood of data. The model is non-trivial, as evidenced by the diagram below.\n",
    "\n",
    "<img src=\"../images/ladder.png\" width=\"300px\"/>\n",
    "\n",
    "Where left is the inference model and right is the generative model. The number of stochastic layers is not predetermined and can be chosen to be any number as long as the two parts agree."
   ]
  },
  {
   "cell_type": "code",
   "execution_count": 3,
   "metadata": {},
   "outputs": [
    {
     "data": {
      "text/plain": [
       "LadderVariationalAutoencoder(\n",
       "  (encoder): ModuleList(\n",
       "    (0): LadderEncoder(\n",
       "      (linear): Linear(in_features=784, out_features=256)\n",
       "      (batchnorm): BatchNorm1d(256, eps=1e-05, momentum=0.1, affine=True)\n",
       "      (sample): GaussianSample(\n",
       "        (mu): Linear(in_features=256, out_features=32)\n",
       "        (log_var): Linear(in_features=256, out_features=32)\n",
       "      )\n",
       "    )\n",
       "    (1): LadderEncoder(\n",
       "      (linear): Linear(in_features=256, out_features=128)\n",
       "      (batchnorm): BatchNorm1d(128, eps=1e-05, momentum=0.1, affine=True)\n",
       "      (sample): GaussianSample(\n",
       "        (mu): Linear(in_features=128, out_features=16)\n",
       "        (log_var): Linear(in_features=128, out_features=16)\n",
       "      )\n",
       "    )\n",
       "    (2): LadderEncoder(\n",
       "      (linear): Linear(in_features=128, out_features=64)\n",
       "      (batchnorm): BatchNorm1d(64, eps=1e-05, momentum=0.1, affine=True)\n",
       "      (sample): GaussianSample(\n",
       "        (mu): Linear(in_features=64, out_features=8)\n",
       "        (log_var): Linear(in_features=64, out_features=8)\n",
       "      )\n",
       "    )\n",
       "  )\n",
       "  (decoder): ModuleList(\n",
       "    (0): LadderDecoder(\n",
       "      (linear1): Linear(in_features=8, out_features=128)\n",
       "      (batchnorm1): BatchNorm1d(128, eps=1e-05, momentum=0.1, affine=True)\n",
       "      (merge): GaussianMerge(\n",
       "        (mu): Linear(in_features=128, out_features=16)\n",
       "        (log_var): Linear(in_features=128, out_features=16)\n",
       "      )\n",
       "      (linear2): Linear(in_features=8, out_features=128)\n",
       "      (batchnorm2): BatchNorm1d(128, eps=1e-05, momentum=0.1, affine=True)\n",
       "      (sample): GaussianSample(\n",
       "        (mu): Linear(in_features=128, out_features=16)\n",
       "        (log_var): Linear(in_features=128, out_features=16)\n",
       "      )\n",
       "    )\n",
       "    (1): LadderDecoder(\n",
       "      (linear1): Linear(in_features=16, out_features=256)\n",
       "      (batchnorm1): BatchNorm1d(256, eps=1e-05, momentum=0.1, affine=True)\n",
       "      (merge): GaussianMerge(\n",
       "        (mu): Linear(in_features=256, out_features=32)\n",
       "        (log_var): Linear(in_features=256, out_features=32)\n",
       "      )\n",
       "      (linear2): Linear(in_features=16, out_features=256)\n",
       "      (batchnorm2): BatchNorm1d(256, eps=1e-05, momentum=0.1, affine=True)\n",
       "      (sample): GaussianSample(\n",
       "        (mu): Linear(in_features=256, out_features=32)\n",
       "        (log_var): Linear(in_features=256, out_features=32)\n",
       "      )\n",
       "    )\n",
       "  )\n",
       "  (reconstruction): Decoder(\n",
       "    (hidden): ModuleList(\n",
       "      (0): Linear(in_features=32, out_features=256)\n",
       "      (1): Linear(in_features=256, out_features=128)\n",
       "      (2): Linear(in_features=128, out_features=64)\n",
       "    )\n",
       "    (reconstruction): Linear(in_features=64, out_features=784)\n",
       "    (output_activation): Sigmoid()\n",
       "  )\n",
       ")"
      ]
     },
     "execution_count": 3,
     "metadata": {},
     "output_type": "execute_result"
    }
   ],
   "source": [
    "from models import LadderVariationalAutoencoder\n",
    "\n",
    "# Bottom to top\n",
    "z_dim = [32, 16, 8]\n",
    "h_dim = [256, 128, 64]\n",
    "\n",
    "model = LadderVariationalAutoencoder([784, z_dim, h_dim])\n",
    "model"
   ]
  },
  {
   "cell_type": "markdown",
   "metadata": {},
   "source": [
    "## Training\n",
    "\n",
    "We still want to maximise the same lower bound as described in the VAE notebook, the difference here is that both the generative model and the inference model are now hierarchical.\n",
    "\n",
    "$$p_{\\theta}(z) = p_{\\theta}(z_L) \\prod_{i=1}^{L-1} p_{\\theta}(z_i|z_{i+1})$$\n",
    "$$q_{\\phi}(z|x) = q_{\\phi}(z_1|x) \\prod_{i=2}^{L} q_{\\phi}(z_i|z_{i+1})$$\n",
    "\n",
    "Which results in a KL-divergence between the latent distributions of their respective p and q layers. All of this is handled directly within the model.\n",
    "\n",
    "Additionally, training hierarchical deep generative models is prone to collapsing fo the stochastic units - meaning that these become inactive during training. This problem can be avoided by gradually turning on the KL-term during turning [[Sønderby 2016b]](http://orbit.dtu.dk/files/121765928/1602.02282.pdf). Typically one starts out training the model with no, or little influence of the KL-term ($\\beta \\approxeq 0$). Then after each epoch, the temperature is raised to $\\beta = 1$.\n",
    "\n",
    "This warm-up scheme has been implemented as an iterator as `DeterministicWarmup`."
   ]
  },
  {
   "cell_type": "code",
   "execution_count": 5,
   "metadata": {},
   "outputs": [],
   "source": [
    "from datautils import get_mnist\n",
    "from inference import DeterministicWarmup\n",
    "\n",
    "_, train, validation = get_mnist(location=\"./\", batch_size=64)\n",
    "\n",
    "def binary_cross_entropy(r, x):\n",
    "    return -torch.sum(x * torch.log(r + 1e-8) + (1 - x) * torch.log(1 - r + 1e-8), dim=-1)\n",
    "\n",
    "optimizer = torch.optim.Adam(model.parameters(), lr=3e-4, betas=(0.9, 0.999))\n",
    "beta = DeterministicWarmup(n=50, t_max=1) # Linear warm-up from 0 to 1 over 50 epochs"
   ]
  },
  {
   "cell_type": "code",
   "execution_count": null,
   "metadata": {},
   "outputs": [],
   "source": [
    "from torch.autograd import Variable\n",
    "\n",
    "for epoch in range(50):\n",
    "    model.train()\n",
    "    total_loss = 0\n",
    "    for (u, _) in train:\n",
    "        u = Variable(u)\n",
    "\n",
    "        if cuda: u = u.cuda(device=0)\n",
    "\n",
    "        reconstruction = model(u)\n",
    "        \n",
    "        likelihood = -binary_cross_entropy(reconstruction, u)\n",
    "        elbo = likelihood - next(beta) * model.kl_divergence\n",
    "        \n",
    "        L = -torch.mean(elbo)\n",
    "\n",
    "        L.backward()\n",
    "        optimizer.step()\n",
    "        optimizer.zero_grad()\n",
    "\n",
    "        total_loss += L.data[0]\n",
    "\n",
    "    m = len(train)\n",
    "\n",
    "    if epoch % 10 == 0:\n",
    "        print(f\"Epoch: {epoch+1}\\tL: {total_loss/m:.2f}\")"
   ]
  },
  {
   "cell_type": "markdown",
   "metadata": {},
   "source": [
    "## Sampling from the generative model\n",
    "\n",
    "To sample from the network we pass some normal distributed noise $z \\sim N(0, I)$ to the top most layer of the decoder and pass the representation through the layers to arrive at our final generated data."
   ]
  },
  {
   "cell_type": "code",
   "execution_count": 19,
   "metadata": {},
   "outputs": [],
   "source": [
    "model.eval()\n",
    "x_mu = model.sample(Variable(torch.randn(16, 8)))"
   ]
  },
  {
   "cell_type": "code",
   "execution_count": 20,
   "metadata": {},
   "outputs": [
    {
     "data": {
      "image/png": "[encoded data removed]",
      "text/plain": [
       "<matplotlib.figure.Figure at 0x12f95dc88>"
      ]
     },
     "metadata": {},
     "output_type": "display_data"
    }
   ],
   "source": [
    "f, axarr = plt.subplots(1, 16, figsize=(18, 12))\n",
    "\n",
    "samples = x_mu.data.view(-1, 28, 28).numpy()\n",
    "\n",
    "for i, ax in enumerate(axarr.flat):\n",
    "    ax.imshow(samples[i])\n",
    "    ax.axis(\"off\")"
   ]
  },
  {
   "cell_type": "code",
   "execution_count": null,
   "metadata": {},
   "outputs": [],
   "source": []
  }
 ],
 "metadata": {
  "kernelspec": {
   "display_name": "Python 3",
   "language": "python",
   "name": "python3"
  },
  "language_info": {
   "codemirror_mode": {
    "name": "ipython",
    "version": 3
   },
   "file_extension": ".py",
   "mimetype": "text/x-python",
   "name": "python",
   "nbconvert_exporter": "python",
   "pygments_lexer": "ipython3",
   "version": "3.6.0"
  }
 },
 "nbformat": 4,
 "nbformat_minor": 2
}

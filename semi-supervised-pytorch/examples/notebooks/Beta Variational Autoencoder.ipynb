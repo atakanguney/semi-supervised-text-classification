{
 "cells": [
  {
   "cell_type": "code",
   "execution_count": 1,
   "metadata": {
    "code_folding": [
     0
    ]
   },
   "outputs": [],
   "source": [
    "# Imports\n",
    "import torch\n",
    "cuda = torch.cuda.is_available()\n",
    "import numpy as np\n",
    "import matplotlib.pyplot as plt\n",
    "%matplotlib inline\n",
    "import sys\n",
    "sys.path.append(\"../../semi-supervised\")"
   ]
  },
  {
   "cell_type": "markdown",
   "metadata": {},
   "source": [
    "# β-Variational Autoencoder\n",
    "\n",
    "The β-VAE as proposed by [Higgins et al.]() is a relatively simple adjustment to the standard VAE training framework in which we alter the loss function as to scale the KL-divergence by a constant $\\beta$. This simple change allows the VAE to create a highly disentangled representation of the data distribution. Typically, we will see that for a $\\beta$-VAE the principal directions of the latent distribution encode disjoint properties of the distribution, such as scale, location, rotation etc. We will see examples of this later.\n",
    "\n",
    "Their hypothesis is that we can rewrite objective as a constrained optimization problem in which we wish to maximize the log generative distribution subject to the constraint that the variational distribution over $z$ should be very similar to the prior in the KL-divergence sense.\n",
    "\n",
    "$$\\mathbb{E}_{q_{\\phi}(z|x)[\\log p_{\\theta}(x|z)]}  \\text{ subject to }  D_{KL}(q_{\\phi}(z|x)||p(z)) < \\epsilon$$\n",
    "\n",
    "Of which the Langrange multiplier $\\beta$ naturally arises, such that for $\\beta > 1$ we can compute the lower bound on the data.\n",
    "\n",
    "$$\\mathcal{L}(\\phi, \\theta; x, z, \\beta) = \\mathbb{E}_{q_{\\phi}(z|x)[\\log p_{\\theta}(x|z)]}  -  \\beta D_{KL}(q_{\\phi}(z|x)||p(z))$$\n",
    "\n",
    "This constraint forces the variational distribution to maximize independence across axes in order to ensure as much information is contained in $z$. We shall also see that a disentangled representation does not neccesarily produce good samples, because the latent space is essentially under limited expressive power."
   ]
  },
  {
   "cell_type": "markdown",
   "metadata": {},
   "source": [
    "## Dataset\n",
    "\n",
    "For this experiment, we will not use MNIST, as it is somewhat difficult to qualitatively measure the degree of disentanglement on this dataset. Instead we will use the accompanying dataset for the $\\beta$-VAE paper, which is the [dSprite dataset](https://github.com/deepmind/dsprites-dataset) by Deepmind. The dataset features a number of images of shapes under different geometrical transform such as:\n",
    "\n",
    "* Color\n",
    "* Scale\n",
    "* Orientation\n",
    "* X-position\n",
    "* Y-position\n",
    "\n",
    "all of which the $\\beta$-VAE should be able to disentangle."
   ]
  },
  {
   "cell_type": "code",
   "execution_count": 42,
   "metadata": {},
   "outputs": [],
   "source": [
    "from datautils import SpriteDataset\n",
    "from torch.utils.data import DataLoader\n",
    "from torch.utils.data.sampler import SubsetRandomSampler\n",
    "\n",
    "dset = SpriteDataset(transform=lambda x: x.reshape(-1))\n",
    "\n",
    "# We will just use the first 245760 samples, which are equivalent to keeping the shape constant\n",
    "train = DataLoader(dset, batch_size=16, sampler=SubsetRandomSampler(indices=np.arange(len(dset)//3)))"
   ]
  },
  {
   "cell_type": "code",
   "execution_count": 3,
   "metadata": {},
   "outputs": [
    {
     "data": {
      "image/png": "[encoded data removed]",
      "text/plain": [
       "<matplotlib.figure.Figure at 0x119f511d0>"
      ]
     },
     "metadata": {},
     "output_type": "display_data"
    }
   ],
   "source": [
    "f, axarr = plt.subplots(2, 8, figsize=(16, 4))\n",
    "\n",
    "samples = next(iter(train))\n",
    "\n",
    "for i, ax in enumerate(axarr.flat):\n",
    "    ax.imshow(samples[i].view(64, 64).numpy())\n",
    "    ax.axis(\"off\")\n",
    "    \n",
    "plt.suptitle(\"Samples from the dSprites dataset\")\n",
    "plt.show()"
   ]
  },
  {
   "cell_type": "markdown",
   "metadata": {},
   "source": [
    "The model is by default completely unchanged. However, we want to recreate the results from the paper, for which we will need a custom VAE that has different activations in the encoder and decoder respectively."
   ]
  },
  {
   "cell_type": "code",
   "execution_count": 4,
   "metadata": {},
   "outputs": [
    {
     "data": {
      "text/plain": [
       "VariationalAutoencoder(\n",
       "  (encoder): Encoder(\n",
       "    (hidden): ModuleList(\n",
       "      (0): Linear(in_features=4096, out_features=1200)\n",
       "      (1): Linear(in_features=1200, out_features=1200)\n",
       "    )\n",
       "    (sample): GaussianSample(\n",
       "      (mu): Linear(in_features=1200, out_features=10)\n",
       "      (log_var): Linear(in_features=1200, out_features=10)\n",
       "    )\n",
       "  )\n",
       "  (decoder): Sequential(\n",
       "    (0): Linear(in_features=10, out_features=1200)\n",
       "    (1): Tanh()\n",
       "    (2): Linear(in_features=1200, out_features=1200)\n",
       "    (3): Tanh()\n",
       "    (4): Linear(in_features=1200, out_features=1200)\n",
       "    (5): Tanh()\n",
       "    (6): Linear(in_features=1200, out_features=4096)\n",
       "    (7): Sigmoid()\n",
       "  )\n",
       ")"
      ]
     },
     "execution_count": 4,
     "metadata": {},
     "output_type": "execute_result"
    }
   ],
   "source": [
    "import torch.nn as nn\n",
    "from models import VariationalAutoencoder\n",
    "\n",
    "model = VariationalAutoencoder([64**2, 10, [1200, 1200]])\n",
    "\n",
    "# Decoder as described in the paper\n",
    "model.decoder = nn.Sequential(\n",
    "    nn.Linear(10, 1200),\n",
    "    nn.Tanh(),\n",
    "    nn.Linear(1200, 1200),\n",
    "    nn.Tanh(),\n",
    "    nn.Linear(1200, 1200),\n",
    "    nn.Tanh(),\n",
    "    nn.Linear(1200, 64**2),\n",
    "    nn.Sigmoid(),\n",
    ")\n",
    "\n",
    "model"
   ]
  },
  {
   "cell_type": "markdown",
   "metadata": {},
   "source": [
    "## Training\n",
    "\n",
    "In the training loop we simple alter the already present $\\beta$ value to the desired value. In this example we use an iterator as to ensure compatability with the SVI interface, but a number would suffice. The paper recommends $\\beta_{norm} = \\beta \\frac{M}{N}$, where $M, N$ are dimensions of the latent space and input space respectively."
   ]
  },
  {
   "cell_type": "code",
   "execution_count": 5,
   "metadata": {},
   "outputs": [],
   "source": [
    "from itertools import repeat\n",
    "\n",
    "# We use this custom BCE function until PyTorch implements reduce=False\n",
    "def binary_cross_entropy(r, x):\n",
    "    return -torch.sum(x * torch.log(r + 1e-8) + (1 - x) * torch.log(1 - r + 1e-8), dim=-1)\n",
    "\n",
    "optimizer = torch.optim.Adagrad(model.parameters(), lr=1e-2)\n",
    "\n",
    "# This is the β-VAE\n",
    "beta = repeat(4.0)"
   ]
  },
  {
   "cell_type": "code",
   "execution_count": 9,
   "metadata": {},
   "outputs": [],
   "source": [
    "from torch.autograd import Variable\n",
    "\n",
    "for epoch in range(251):\n",
    "    model.train()\n",
    "    total_loss = 0\n",
    "    for u in train:\n",
    "        u = Variable(u.float())\n",
    "\n",
    "        if cuda: u = u.cuda(device=0)\n",
    "\n",
    "        reconstruction = model(u)\n",
    "        \n",
    "        likelihood = -binary_cross_entropy(reconstruction, u)\n",
    "        elbo = likelihood - next(beta) * model.kl_divergence\n",
    "        \n",
    "        L = -torch.mean(elbo)\n",
    "\n",
    "        L.backward()\n",
    "        optimizer.step()\n",
    "        optimizer.zero_grad()\n",
    "\n",
    "        total_loss += L.data[0]\n",
    "\n",
    "    m = len(train)\n",
    "\n",
    "    if epoch % 1 == 0:\n",
    "        print(f\"Epoch: {epoch}\\tL: {total_loss/m:.2f}\")"
   ]
  },
  {
   "cell_type": "markdown",
   "metadata": {},
   "source": [
    "## Disentangled samples\n",
    "\n",
    "Below we show how the $\\beta$-VAE has learned a disentangled representation by perturbing $z$ in each of its principal directions. First we choose a specific sample from the data as seen below. We then use the encoder to transfer into the latent space. From here we can translate the sample in each direction to see what each coordinate direction encodes."
   ]
  },
  {
   "cell_type": "code",
   "execution_count": 143,
   "metadata": {},
   "outputs": [
    {
     "data": {
      "image/png": "[encoded data removed]",
      "text/plain": [
       "<matplotlib.figure.Figure at 0x1e05205f8>"
      ]
     },
     "metadata": {},
     "output_type": "display_data"
    }
   ],
   "source": [
    "x, *_ = next(iter(train))\n",
    "plt.imshow(x.numpy().reshape(64, 64))\n",
    "plt.show()"
   ]
  },
  {
   "cell_type": "code",
   "execution_count": 208,
   "metadata": {},
   "outputs": [],
   "source": [
    "# Above image encoded to z\n",
    "z, _, _ = model.encoder(Variable(x.float()))\n",
    "z = z.repeat(10, 1)\n",
    "\n",
    "# Perturb the first dimension of the first element\n",
    "# the second dimension of the second element, etc.\n",
    "for i in range(1, 10):\n",
    "    z[i, i-1] += 10\n",
    "\n",
    "samples = model.sample(z)"
   ]
  },
  {
   "cell_type": "code",
   "execution_count": 220,
   "metadata": {},
   "outputs": [
    {
     "data": {
      "image/png": "[encoded data removed]",
      "text/plain": [
       "<matplotlib.figure.Figure at 0x10a697b00>"
      ]
     },
     "metadata": {},
     "output_type": "display_data"
    }
   ],
   "source": [
    "f, axarr = plt.subplots(1, 10, figsize=(18, 3))\n",
    "\n",
    "for i, ax in enumerate(axarr.flat):\n",
    "    ax.set_title(\"Perturb axis {}\".format(i))\n",
    "    if i == 0:\n",
    "        ax.set_title(\"Original\")\n",
    "    ax.imshow(samples[i].view(64, 64).data.numpy())\n",
    "    ax.axis(\"off\")\n",
    "    \n",
    "plt.suptitle(\"Generated samples from the model\", fontsize=16)\n",
    "plt.show()"
   ]
  },
  {
   "cell_type": "markdown",
   "metadata": {},
   "source": [
    "As we can see the representation is not totally disentangled, but each direction seem to represent some aspect of the data. Examples:\n",
    "\n",
    "* The first direction encodes translation along the $x$-axis.\n",
    "* The second direction encodes translation along the $y$-axis, but also rotation and shape.\n",
    "* The third direction encodes scale along with translation.\n",
    "* The eight direction encodes shape.\n",
    "\n",
    "The samples above are from a model trained for approximately 200 epochs. Naturally, one would expect better results through a longer training period, but the size of the dataset makes it computationally prohibitive."
   ]
  },
  {
   "cell_type": "markdown",
   "metadata": {},
   "source": [
    "## Semi-supervised context\n",
    "\n",
    "The $\\beta$ parameter has been implemented directly in the `SVI` function. Please note that at the moment there is a conflict in the usage of this term. The advanced VAE-based models, such as LVAE and ADGM rely on this parameter in the context of temperature. The temperature is critical to warm-up the stochastic units as to make sure that they stay activated throughout training, setting $\\beta$ constant or greater than one is likely to fail.\n",
    "\n",
    "Therefore, at the moment it seems that the $\\beta$-VAE framework is incompatible with these models.\n",
    "\n",
    "***However, you can still attempt it by changing the following line in the other notebooks***"
   ]
  },
  {
   "cell_type": "code",
   "execution_count": null,
   "metadata": {},
   "outputs": [],
   "source": [
    "from itertools import repeat\n",
    "elbo = SVI(model, likelihood=binary_cross_entropy, sampler=sampler, beta=repeat(4.0)) # Or your choice of beta value"
   ]
  }
 ],
 "metadata": {
  "kernelspec": {
   "display_name": "Python 3",
   "language": "python",
   "name": "python3"
  },
  "language_info": {
   "codemirror_mode": {
    "name": "ipython",
    "version": 3
   },
   "file_extension": ".py",
   "mimetype": "text/x-python",
   "name": "python",
   "nbconvert_exporter": "python",
   "pygments_lexer": "ipython3",
   "version": "3.6.0"
  }
 },
 "nbformat": 4,
 "nbformat_minor": 2
}
